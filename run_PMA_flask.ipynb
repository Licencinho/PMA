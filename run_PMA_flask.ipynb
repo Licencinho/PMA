{
  "cells": [
    {
      "cell_type": "code",
      "execution_count": null,
      "id": "e9521859",
      "metadata": {},
      "outputs": [],
      "source": [
        "[![Open In Colab](https://colab.research.google.com/assets/colab-badge.svg)](https://colab.research.google.com/github/Licencinho/PMA/blob/main/run_PMA_flask.ipynb)"
      ]
    },
    {
      "cell_type": "code",
      "execution_count": 2,
      "id": "196e3e3c",
      "metadata": {
        "colab": {
          "base_uri": "https://localhost:8080/"
        },
        "id": "196e3e3c",
        "outputId": "50234e2b-925c-4650-8764-7eeb644476b8"
      },
      "outputs": [
        {
          "name": "stdout",
          "output_type": "stream",
          "text": [
            "Requirement already satisfied: flask-ngrok in c:\\users\\alons\\anaconda3\\lib\\site-packages (0.0.25)\n",
            "Requirement already satisfied: Flask>=0.8 in c:\\users\\alons\\anaconda3\\lib\\site-packages (from flask-ngrok) (1.1.2)\n",
            "Requirement already satisfied: requests in c:\\users\\alons\\anaconda3\\lib\\site-packages (from flask-ngrok) (2.25.1)\n",
            "Requirement already satisfied: itsdangerous>=0.24 in c:\\users\\alons\\anaconda3\\lib\\site-packages (from Flask>=0.8->flask-ngrok) (1.1.0)\n",
            "Requirement already satisfied: Werkzeug>=0.15 in c:\\users\\alons\\anaconda3\\lib\\site-packages (from Flask>=0.8->flask-ngrok) (1.0.1)\n",
            "Requirement already satisfied: Jinja2>=2.10.1 in c:\\users\\alons\\anaconda3\\lib\\site-packages (from Flask>=0.8->flask-ngrok) (2.11.3)\n",
            "Requirement already satisfied: click>=5.1 in c:\\users\\alons\\anaconda3\\lib\\site-packages (from Flask>=0.8->flask-ngrok) (7.1.2)\n",
            "Requirement already satisfied: MarkupSafe>=0.23 in c:\\users\\alons\\anaconda3\\lib\\site-packages (from Jinja2>=2.10.1->Flask>=0.8->flask-ngrok) (1.1.1)\n",
            "Requirement already satisfied: idna<3,>=2.5 in c:\\users\\alons\\anaconda3\\lib\\site-packages (from requests->flask-ngrok) (2.10)\n",
            "Requirement already satisfied: urllib3<1.27,>=1.21.1 in c:\\users\\alons\\anaconda3\\lib\\site-packages (from requests->flask-ngrok) (1.26.4)\n",
            "Requirement already satisfied: chardet<5,>=3.0.2 in c:\\users\\alons\\anaconda3\\lib\\site-packages (from requests->flask-ngrok) (4.0.0)\n",
            "Requirement already satisfied: certifi>=2017.4.17 in c:\\users\\alons\\anaconda3\\lib\\site-packages (from requests->flask-ngrok) (2020.12.5)\n",
            "Requirement already satisfied: pyngrok in c:\\users\\alons\\anaconda3\\lib\\site-packages (5.1.0)\n",
            "Requirement already satisfied: PyYAML in c:\\users\\alons\\anaconda3\\lib\\site-packages (from pyngrok) (5.4.1)\n",
            "Requirement already satisfied: flask-wtf in c:\\users\\alons\\anaconda3\\lib\\site-packages (1.0.0)\n",
            "Requirement already satisfied: Flask in c:\\users\\alons\\anaconda3\\lib\\site-packages (from flask-wtf) (1.1.2)\n",
            "Requirement already satisfied: itsdangerous in c:\\users\\alons\\anaconda3\\lib\\site-packages (from flask-wtf) (1.1.0)\n",
            "Requirement already satisfied: WTForms in c:\\users\\alons\\anaconda3\\lib\\site-packages (from flask-wtf) (3.0.1)\n",
            "Requirement already satisfied: Jinja2>=2.10.1 in c:\\users\\alons\\anaconda3\\lib\\site-packages (from Flask->flask-wtf) (2.11.3)\n",
            "Requirement already satisfied: click>=5.1 in c:\\users\\alons\\anaconda3\\lib\\site-packages (from Flask->flask-wtf) (7.1.2)\n",
            "Requirement already satisfied: Werkzeug>=0.15 in c:\\users\\alons\\anaconda3\\lib\\site-packages (from Flask->flask-wtf) (1.0.1)\n",
            "Requirement already satisfied: MarkupSafe>=0.23 in c:\\users\\alons\\anaconda3\\lib\\site-packages (from Jinja2>=2.10.1->Flask->flask-wtf) (1.1.1)\n"
          ]
        }
      ],
      "source": [
        "!pip install flask-ngrok\n",
        "!pip install pyngrok\n",
        "!pip install flask-wtf"
      ]
    },
    {
      "cell_type": "code",
      "execution_count": 3,
      "id": "4f14298c",
      "metadata": {
        "colab": {
          "base_uri": "https://localhost:8080/"
        },
        "id": "4f14298c",
        "outputId": "4e22f433-bbe5-4b84-c18b-9773a7f0bbbe"
      },
      "outputs": [
        {
          "name": "stdout",
          "output_type": "stream",
          "text": [
            "Authtoken saved to configuration file: C:\\Users\\alons/.ngrok2/ngrok.yml\n"
          ]
        }
      ],
      "source": [
        "!ngrok authtoken \"26BvbMOktqjiQ2Ibfb05r7jzTcL_4UJaagneSjXiB6qeUZXzT\""
      ]
    },
    {
      "cell_type": "code",
      "execution_count": 5,
      "id": "754e7726",
      "metadata": {
        "id": "754e7726"
      },
      "outputs": [
        {
          "ename": "FileNotFoundError",
          "evalue": "[WinError 3] El sistema no puede encontrar la ruta especificada: '/content/PMA'",
          "output_type": "error",
          "traceback": [
            "\u001b[1;31m---------------------------------------------------------------------------\u001b[0m",
            "\u001b[1;31mFileNotFoundError\u001b[0m                         Traceback (most recent call last)",
            "\u001b[1;32m<ipython-input-5-aebeeecec269>\u001b[0m in \u001b[0;36m<module>\u001b[1;34m\u001b[0m\n\u001b[0;32m      1\u001b[0m \u001b[1;31m#!git clone \"https://github.com/Licencinho/PMA\"\u001b[0m\u001b[1;33m\u001b[0m\u001b[1;33m\u001b[0m\u001b[1;33m\u001b[0m\u001b[0m\n\u001b[0;32m      2\u001b[0m \u001b[1;32mimport\u001b[0m \u001b[0mos\u001b[0m\u001b[1;33m\u001b[0m\u001b[1;33m\u001b[0m\u001b[0m\n\u001b[1;32m----> 3\u001b[1;33m \u001b[0mos\u001b[0m\u001b[1;33m.\u001b[0m\u001b[0mchdir\u001b[0m\u001b[1;33m(\u001b[0m\u001b[1;34m\"/content/PMA\"\u001b[0m\u001b[1;33m)\u001b[0m\u001b[1;33m\u001b[0m\u001b[1;33m\u001b[0m\u001b[0m\n\u001b[0m",
            "\u001b[1;31mFileNotFoundError\u001b[0m: [WinError 3] El sistema no puede encontrar la ruta especificada: '/content/PMA'"
          ]
        }
      ],
      "source": [
        "!git clone \"https://github.com/Licencinho/PMA\"\n",
        "import os\n",
        "os.chdir(\"/content/PMA\")"
      ]
    },
    {
      "cell_type": "code",
      "execution_count": 10,
      "id": "b256c725",
      "metadata": {
        "colab": {
          "base_uri": "https://localhost:8080/"
        },
        "id": "b256c725",
        "outputId": "48ea6370-8b27-4b47-82c1-869408f48392"
      },
      "outputs": [
        {
          "name": "stdout",
          "output_type": "stream",
          "text": [
            " * Serving Flask app \"__main__\" (lazy loading)\n",
            " * Environment: production\n",
            "   WARNING: This is a development server. Do not use it in a production deployment.\n",
            "   Use a production WSGI server instead.\n",
            " * Debug mode: off\n"
          ]
        },
        {
          "name": "stderr",
          "output_type": "stream",
          "text": [
            " * Running on http://127.0.0.1:5000/ (Press CTRL+C to quit)\n",
            "Exception in thread Thread-38:\n",
            "Traceback (most recent call last):\n",
            "  File \"C:\\Users\\alons\\anaconda3\\lib\\site-packages\\urllib3\\connection.py\", line 169, in _new_conn\n",
            "    conn = connection.create_connection(\n",
            "  File \"C:\\Users\\alons\\anaconda3\\lib\\site-packages\\urllib3\\util\\connection.py\", line 96, in create_connection\n",
            "    raise err\n",
            "  File \"C:\\Users\\alons\\anaconda3\\lib\\site-packages\\urllib3\\util\\connection.py\", line 86, in create_connection\n",
            "    sock.connect(sa)\n",
            "ConnectionRefusedError: [WinError 10061] No se puede establecer una conexión ya que el equipo de destino denegó expresamente dicha conexión\n",
            "\n",
            "During handling of the above exception, another exception occurred:\n",
            "\n",
            "Traceback (most recent call last):\n",
            "  File \"C:\\Users\\alons\\anaconda3\\lib\\site-packages\\urllib3\\connectionpool.py\", line 699, in urlopen\n",
            "    httplib_response = self._make_request(\n",
            "  File \"C:\\Users\\alons\\anaconda3\\lib\\site-packages\\urllib3\\connectionpool.py\", line 394, in _make_request\n",
            "    conn.request(method, url, **httplib_request_kw)\n",
            "  File \"C:\\Users\\alons\\anaconda3\\lib\\site-packages\\urllib3\\connection.py\", line 234, in request\n",
            "    super(HTTPConnection, self).request(method, url, body=body, headers=headers)\n",
            "  File \"C:\\Users\\alons\\anaconda3\\lib\\http\\client.py\", line 1255, in request\n",
            "    self._send_request(method, url, body, headers, encode_chunked)\n",
            "  File \"C:\\Users\\alons\\anaconda3\\lib\\http\\client.py\", line 1301, in _send_request\n",
            "    self.endheaders(body, encode_chunked=encode_chunked)\n",
            "  File \"C:\\Users\\alons\\anaconda3\\lib\\http\\client.py\", line 1250, in endheaders\n",
            "    self._send_output(message_body, encode_chunked=encode_chunked)\n",
            "  File \"C:\\Users\\alons\\anaconda3\\lib\\http\\client.py\", line 1010, in _send_output\n",
            "    self.send(msg)\n",
            "  File \"C:\\Users\\alons\\anaconda3\\lib\\http\\client.py\", line 950, in send\n",
            "    self.connect()\n",
            "  File \"C:\\Users\\alons\\anaconda3\\lib\\site-packages\\urllib3\\connection.py\", line 200, in connect\n",
            "    conn = self._new_conn()\n",
            "  File \"C:\\Users\\alons\\anaconda3\\lib\\site-packages\\urllib3\\connection.py\", line 181, in _new_conn\n",
            "    raise NewConnectionError(\n",
            "urllib3.exceptions.NewConnectionError: <urllib3.connection.HTTPConnection object at 0x0000020AA5DBB880>: Failed to establish a new connection: [WinError 10061] No se puede establecer una conexión ya que el equipo de destino denegó expresamente dicha conexión\n",
            "\n",
            "During handling of the above exception, another exception occurred:\n",
            "\n",
            "Traceback (most recent call last):\n",
            "  File \"C:\\Users\\alons\\anaconda3\\lib\\site-packages\\requests\\adapters.py\", line 439, in send\n",
            "    resp = conn.urlopen(\n",
            "  File \"C:\\Users\\alons\\anaconda3\\lib\\site-packages\\urllib3\\connectionpool.py\", line 755, in urlopen\n",
            "    retries = retries.increment(\n",
            "  File \"C:\\Users\\alons\\anaconda3\\lib\\site-packages\\urllib3\\util\\retry.py\", line 574, in increment\n",
            "    raise MaxRetryError(_pool, url, error or ResponseError(cause))\n",
            "urllib3.exceptions.MaxRetryError: HTTPConnectionPool(host='localhost', port=4040): Max retries exceeded with url: /api/tunnels (Caused by NewConnectionError('<urllib3.connection.HTTPConnection object at 0x0000020AA5DBB880>: Failed to establish a new connection: [WinError 10061] No se puede establecer una conexión ya que el equipo de destino denegó expresamente dicha conexión'))\n",
            "\n",
            "During handling of the above exception, another exception occurred:\n",
            "\n",
            "Traceback (most recent call last):\n",
            "  File \"C:\\Users\\alons\\anaconda3\\lib\\threading.py\", line 932, in _bootstrap_inner\n",
            "    self.run()\n",
            "  File \"C:\\Users\\alons\\anaconda3\\lib\\threading.py\", line 1254, in run\n",
            "    self.function(*self.args, **self.kwargs)\n",
            "  File \"C:\\Users\\alons\\anaconda3\\lib\\site-packages\\flask_ngrok.py\", line 70, in start_ngrok\n",
            "    ngrok_address = _run_ngrok()\n",
            "  File \"C:\\Users\\alons\\anaconda3\\lib\\site-packages\\flask_ngrok.py\", line 35, in _run_ngrok\n",
            "    tunnel_url = requests.get(localhost_url).text  # Get the tunnel information\n",
            "  File \"C:\\Users\\alons\\anaconda3\\lib\\site-packages\\requests\\api.py\", line 76, in get\n",
            "    return request('get', url, params=params, **kwargs)\n",
            "  File \"C:\\Users\\alons\\anaconda3\\lib\\site-packages\\requests\\api.py\", line 61, in request\n",
            "    return session.request(method=method, url=url, **kwargs)\n",
            "  File \"C:\\Users\\alons\\anaconda3\\lib\\site-packages\\requests\\sessions.py\", line 542, in request\n",
            "    resp = self.send(prep, **send_kwargs)\n",
            "  File \"C:\\Users\\alons\\anaconda3\\lib\\site-packages\\requests\\sessions.py\", line 655, in send\n",
            "    r = adapter.send(request, **kwargs)\n",
            "  File \"C:\\Users\\alons\\anaconda3\\lib\\site-packages\\requests\\adapters.py\", line 516, in send\n",
            "    raise ConnectionError(e, request=request)\n",
            "requests.exceptions.ConnectionError: HTTPConnectionPool(host='localhost', port=4040): Max retries exceeded with url: /api/tunnels (Caused by NewConnectionError('<urllib3.connection.HTTPConnection object at 0x0000020AA5DBB880>: Failed to establish a new connection: [WinError 10061] No se puede establecer una conexión ya que el equipo de destino denegó expresamente dicha conexión'))\n",
            "127.0.0.1 - - [24/Mar/2022 15:45:14] \"\u001b[37mGET / HTTP/1.1\u001b[0m\" 200 -\n",
            "127.0.0.1 - - [24/Mar/2022 15:45:16] \"\u001b[37mGET /workload HTTP/1.1\u001b[0m\" 200 -\n",
            "127.0.0.1 - - [24/Mar/2022 15:45:32] \"\u001b[37mPOST /submit HTTP/1.1\u001b[0m\" 200 -\n",
            "127.0.0.1 - - [24/Mar/2022 15:45:35] \"\u001b[37mGET /workload HTTP/1.1\u001b[0m\" 200 -\n",
            "127.0.0.1 - - [24/Mar/2022 15:45:39] \"\u001b[37mGET / HTTP/1.1\u001b[0m\" 200 -\n",
            "127.0.0.1 - - [24/Mar/2022 15:45:40] \"\u001b[37mGET /workload HTTP/1.1\u001b[0m\" 200 -\n",
            "127.0.0.1 - - [24/Mar/2022 15:45:40] \"\u001b[37mGET /calendar HTTP/1.1\u001b[0m\" 200 -\n",
            "127.0.0.1 - - [24/Mar/2022 15:45:43] \"\u001b[37mGET / HTTP/1.1\u001b[0m\" 200 -\n",
            "127.0.0.1 - - [24/Mar/2022 15:45:44] \"\u001b[37mGET /workload HTTP/1.1\u001b[0m\" 200 -\n",
            "127.0.0.1 - - [24/Mar/2022 15:45:46] \"\u001b[37mGET / HTTP/1.1\u001b[0m\" 200 -\n"
          ]
        }
      ],
      "source": [
        "from flask import *\n",
        "from flask_ngrok import run_with_ngrok\n",
        "import pandas as pd\n",
        "from flask_wtf import FlaskForm\n",
        "from wtforms import StringField, DateTimeField, SubmitField, EmailField\n",
        "from wtforms.validators import DataRequired\n",
        "from wtforms import validators\n",
        "\n",
        "app = Flask(__name__)\n",
        "app.config['SECRET_KEY'] = 'super-secret-impossible-impopossible' # don't do this in production\n",
        "\n",
        "from flask_wtf.csrf import CSRFProtect\n",
        "csrf = CSRFProtect(app)\n",
        "\n",
        "app_data = {\n",
        "    \"name\":         \"Dissertation Planner\",\n",
        "    \"description\":  \"A basic Flask app for students to plan their dissertations\",\n",
        "    \"author\":       \"Peter Simeth\",\n",
        "    \"html_title\":   \"Dissertation Planner\",\n",
        "    \"project_name\": \"Dissertation Planner\",\n",
        "    \"keywords\":     \"flask, webapp, dissertation, planning, python\"\n",
        "}\n",
        "\n",
        "class UserForm(FlaskForm):\n",
        "\tname = StringField('Name', validators=[DataRequired()])\n",
        "\temail = EmailField('Email', validators=[DataRequired()])\n",
        "\tdob = DateTimeField('Date of Birth', format='%d/%m/%Y', validators=[DataRequired()])\n",
        "\tspecialism = StringField('Specialism', validators=[DataRequired()])\n",
        "\n",
        "@app.route('/')\n",
        "def index():\n",
        "    return render_template('index.html', app_data=app_data)\n",
        "\n",
        "\n",
        "@app.route('/calendar')\n",
        "def calendar():\n",
        "    df = pd.read_csv(\"NamesTwo.csv\")\n",
        "    return render_template('calendar.html', df=df, app_data=app_data)\n",
        "\n",
        "\n",
        "@app.route('/workload')\n",
        "def workload():\n",
        "    df = pd.read_csv(\"NamesTwo.csv\")\n",
        "    form = UserForm()\n",
        "    return render_template('workload.html', df=df, form = form, app_data=app_data)\n",
        "\n",
        "\n",
        "@app.route('/submit', methods=('GET', 'POST'))\n",
        "def submit():\n",
        "\tform = UserForm()\n",
        "\tdf = pd.read_csv(\"NamesTwo.csv\")\n",
        "\tif request.method == \"POST\":\n",
        "\t\tif form.validate_on_submit():\n",
        "\t\t\tmax_id = df['ID'].max()\n",
        "\t\t\tnew_id = max_id + 1\n",
        "\t\t\tdf2 = pd.DataFrame({'ID':[new_id], \n",
        "\t\t\t\t'Name':[request.form.get(\"name\")],\n",
        "\t\t\t\t'Email':[request.form.get(\"email\")],\n",
        "\t\t\t\t'Age':[request.form.get(\"dob\")],\n",
        "\t\t\t\t'Specialism':[request.form.get(\"specialism\")]\n",
        "\t\t\t})\n",
        "\t\t\tdf2['Age'] = pd.to_datetime(df2['Age'], dayfirst=True)\n",
        "\t\t\tnow = pd.Timestamp('now')\n",
        "\t\t\tdf2['Age'] = (now - df2['Age']).astype('<m8[Y]')\n",
        "\t\t\tdf = pd.concat([df, df2], ignore_index=True)\n",
        "\t\t\tdf.to_csv(\"NamesTwo.csv\", index=False)\n",
        "\n",
        "\t\treturn render_template('calendar.html', df=df, app_data=app_data)\n",
        "\n",
        "\treturn render_template('workload.html', df=df, form=form, app_data=app_data)\n",
        "\t\n",
        "\n",
        "run_with_ngrok(app)\n",
        "app.run()"
      ]
    },
    {
      "cell_type": "code",
      "execution_count": null,
      "id": "30907688",
      "metadata": {
        "id": "30907688"
      },
      "outputs": [],
      "source": []
    }
  ],
  "metadata": {
    "colab": {
      "name": "Copia de Copy of flask_website_IMA.ipynb",
      "provenance": []
    },
    "kernelspec": {
      "display_name": "Python 3",
      "language": "python",
      "name": "python3"
    },
    "language_info": {
      "codemirror_mode": {
        "name": "ipython",
        "version": 3
      },
      "file_extension": ".py",
      "mimetype": "text/x-python",
      "name": "python",
      "nbconvert_exporter": "python",
      "pygments_lexer": "ipython3",
      "version": "3.8.8"
    }
  },
  "nbformat": 4,
  "nbformat_minor": 5
}
