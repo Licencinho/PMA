{
  "cells": [
    {
      "cell_type": "markdown",
      "id": "e9521859",
      "metadata": {},
      "source": [
        "<a href=\"https://colab.research.google.com/github/Licencinho/PMA/blob/main/run_PMA_flask.ipynb\" target=\"_parent\"><img src=\"https://colab.research.google.com/assets/colab-badge.svg\" alt=\"Open In Colab\"/></a>"
      ]
    },
    {
      "cell_type": "code",
      "execution_count": 11,
      "id": "196e3e3c",
      "metadata": {
        "colab": {
          "base_uri": "https://localhost:8080/"
        },
        "id": "196e3e3c",
        "outputId": "50234e2b-925c-4650-8764-7eeb644476b8"
      },
      "outputs": [
        {
          "name": "stdout",
          "output_type": "stream",
          "text": [
            "Requirement already satisfied: flask-ngrok in c:\\users\\alons\\anaconda3\\lib\\site-packages (0.0.25)\n",
            "Requirement already satisfied: requests in c:\\users\\alons\\anaconda3\\lib\\site-packages (from flask-ngrok) (2.25.1)\n",
            "Requirement already satisfied: Flask>=0.8 in c:\\users\\alons\\anaconda3\\lib\\site-packages (from flask-ngrok) (1.1.2)\n",
            "Requirement already satisfied: Jinja2>=2.10.1 in c:\\users\\alons\\anaconda3\\lib\\site-packages (from Flask>=0.8->flask-ngrok) (2.11.3)\n",
            "Requirement already satisfied: itsdangerous>=0.24 in c:\\users\\alons\\anaconda3\\lib\\site-packages (from Flask>=0.8->flask-ngrok) (1.1.0)\n",
            "Requirement already satisfied: Werkzeug>=0.15 in c:\\users\\alons\\anaconda3\\lib\\site-packages (from Flask>=0.8->flask-ngrok) (1.0.1)\n",
            "Requirement already satisfied: click>=5.1 in c:\\users\\alons\\anaconda3\\lib\\site-packages (from Flask>=0.8->flask-ngrok) (7.1.2)\n",
            "Requirement already satisfied: MarkupSafe>=0.23 in c:\\users\\alons\\anaconda3\\lib\\site-packages (from Jinja2>=2.10.1->Flask>=0.8->flask-ngrok) (1.1.1)\n",
            "Requirement already satisfied: certifi>=2017.4.17 in c:\\users\\alons\\anaconda3\\lib\\site-packages (from requests->flask-ngrok) (2020.12.5)\n",
            "Requirement already satisfied: idna<3,>=2.5 in c:\\users\\alons\\anaconda3\\lib\\site-packages (from requests->flask-ngrok) (2.10)\n",
            "Requirement already satisfied: urllib3<1.27,>=1.21.1 in c:\\users\\alons\\anaconda3\\lib\\site-packages (from requests->flask-ngrok) (1.26.4)\n",
            "Requirement already satisfied: chardet<5,>=3.0.2 in c:\\users\\alons\\anaconda3\\lib\\site-packages (from requests->flask-ngrok) (4.0.0)\n",
            "Requirement already satisfied: pyngrok in c:\\users\\alons\\anaconda3\\lib\\site-packages (5.1.0)\n",
            "Requirement already satisfied: PyYAML in c:\\users\\alons\\anaconda3\\lib\\site-packages (from pyngrok) (5.4.1)\n",
            "Requirement already satisfied: flask-wtf in c:\\users\\alons\\anaconda3\\lib\\site-packages (1.0.0)\n",
            "Requirement already satisfied: itsdangerous in c:\\users\\alons\\anaconda3\\lib\\site-packages (from flask-wtf) (1.1.0)\n",
            "Requirement already satisfied: WTForms in c:\\users\\alons\\anaconda3\\lib\\site-packages (from flask-wtf) (3.0.1)\n",
            "Requirement already satisfied: Flask in c:\\users\\alons\\anaconda3\\lib\\site-packages (from flask-wtf) (1.1.2)\n",
            "Requirement already satisfied: Jinja2>=2.10.1 in c:\\users\\alons\\anaconda3\\lib\\site-packages (from Flask->flask-wtf) (2.11.3)\n",
            "Requirement already satisfied: Werkzeug>=0.15 in c:\\users\\alons\\anaconda3\\lib\\site-packages (from Flask->flask-wtf) (1.0.1)\n",
            "Requirement already satisfied: click>=5.1 in c:\\users\\alons\\anaconda3\\lib\\site-packages (from Flask->flask-wtf) (7.1.2)\n",
            "Requirement already satisfied: MarkupSafe>=0.23 in c:\\users\\alons\\anaconda3\\lib\\site-packages (from Jinja2>=2.10.1->Flask->flask-wtf) (1.1.1)\n"
          ]
        }
      ],
      "source": [
        "!pip install flask-ngrok\n",
        "!pip install pyngrok\n",
        "!pip install flask-wtf"
      ]
    },
    {
      "cell_type": "code",
      "execution_count": 12,
      "id": "4f14298c",
      "metadata": {
        "colab": {
          "base_uri": "https://localhost:8080/"
        },
        "id": "4f14298c",
        "outputId": "4e22f433-bbe5-4b84-c18b-9773a7f0bbbe"
      },
      "outputs": [
        {
          "name": "stdout",
          "output_type": "stream",
          "text": [
            "Authtoken saved to configuration file: C:\\Users\\alons/.ngrok2/ngrok.yml\n"
          ]
        }
      ],
      "source": [
        "!ngrok authtoken \"26BvbMOktqjiQ2Ibfb05r7jzTcL_4UJaagneSjXiB6qeUZXzT\""
      ]
    },
    {
      "cell_type": "code",
      "execution_count": 5,
      "id": "754e7726",
      "metadata": {
        "id": "754e7726"
      },
      "outputs": [
        {
          "ename": "FileNotFoundError",
          "evalue": "[WinError 3] El sistema no puede encontrar la ruta especificada: '/content/PMA'",
          "output_type": "error",
          "traceback": [
            "\u001b[1;31m---------------------------------------------------------------------------\u001b[0m",
            "\u001b[1;31mFileNotFoundError\u001b[0m                         Traceback (most recent call last)",
            "\u001b[1;32m<ipython-input-5-aebeeecec269>\u001b[0m in \u001b[0;36m<module>\u001b[1;34m\u001b[0m\n\u001b[0;32m      1\u001b[0m \u001b[1;31m#!git clone \"https://github.com/Licencinho/PMA\"\u001b[0m\u001b[1;33m\u001b[0m\u001b[1;33m\u001b[0m\u001b[1;33m\u001b[0m\u001b[0m\n\u001b[0;32m      2\u001b[0m \u001b[1;32mimport\u001b[0m \u001b[0mos\u001b[0m\u001b[1;33m\u001b[0m\u001b[1;33m\u001b[0m\u001b[0m\n\u001b[1;32m----> 3\u001b[1;33m \u001b[0mos\u001b[0m\u001b[1;33m.\u001b[0m\u001b[0mchdir\u001b[0m\u001b[1;33m(\u001b[0m\u001b[1;34m\"/content/PMA\"\u001b[0m\u001b[1;33m)\u001b[0m\u001b[1;33m\u001b[0m\u001b[1;33m\u001b[0m\u001b[0m\n\u001b[0m",
            "\u001b[1;31mFileNotFoundError\u001b[0m: [WinError 3] El sistema no puede encontrar la ruta especificada: '/content/PMA'"
          ]
        }
      ],
      "source": [
        "#only execute in Google Colab. Not needed in local\n",
        "!git clone \"https://github.com/Licencinho/PMA\"\n",
        "import os\n",
        "os.chdir(\"/content/PMA\")"
      ]
    },
    {
      "cell_type": "code",
      "execution_count": 29,
      "id": "b256c725",
      "metadata": {
        "colab": {
          "base_uri": "https://localhost:8080/"
        },
        "id": "b256c725",
        "outputId": "48ea6370-8b27-4b47-82c1-869408f48392"
      },
      "outputs": [
        {
          "name": "stdout",
          "output_type": "stream",
          "text": [
            " * Serving Flask app \"__main__\" (lazy loading)\n",
            " * Environment: production\n",
            "   WARNING: This is a development server. Do not use it in a production deployment.\n",
            "   Use a production WSGI server instead.\n",
            " * Debug mode: off\n"
          ]
        },
        {
          "name": "stderr",
          "output_type": "stream",
          "text": [
            " * Running on http://127.0.0.1:5000/ (Press CTRL+C to quit)\n"
          ]
        },
        {
          "name": "stdout",
          "output_type": "stream",
          "text": [
            " * Running on http://5644-31-205-0-51.ngrok.io\n",
            " * Traffic stats available on http://127.0.0.1:4040\n"
          ]
        },
        {
          "name": "stderr",
          "output_type": "stream",
          "text": [
            "127.0.0.1 - - [28/Mar/2022 15:59:47] \"\u001b[37mGET /workload HTTP/1.1\u001b[0m\" 200 -\n",
            "127.0.0.1 - - [28/Mar/2022 16:00:10] \"\u001b[37mPOST /submit HTTP/1.1\u001b[0m\" 200 -\n"
          ]
        },
        {
          "name": "stdout",
          "output_type": "stream",
          "text": [
            "I'm in form validation\n"
          ]
        }
      ],
      "source": [
        "from flask import *\n",
        "from flask_ngrok import run_with_ngrok\n",
        "import pandas as pd\n",
        "from flask_wtf import FlaskForm\n",
        "from wtforms import *\n",
        "from wtforms import validators\n",
        "from wtforms.validators import *\n",
        "\n",
        "\n",
        "app = Flask(__name__)\n",
        "app.config['SECRET_KEY'] = 'super-secret-impossible-impopossible' # don't do this in production\n",
        "\n",
        "from flask_wtf.csrf import CSRFProtect\n",
        "csrf = CSRFProtect(app)\n",
        "\n",
        "app_data = {\n",
        "    \"name\":         \"Dissertation Planner\",\n",
        "    \"description\":  \"A basic Flask app for students to plan their dissertations\",\n",
        "    \"author\":       \"Peter Simeth\",\n",
        "    \"html_title\":   \"Dissertation Planner\",\n",
        "    \"project_name\": \"Dissertation Planner\",\n",
        "    \"keywords\":     \"flask, webapp, dissertation, planning, python\"\n",
        "}\n",
        "\n",
        "class UserForm(FlaskForm):\n",
        "\tmodule_number = IntegerField('How many modules does your Master have? (Required)', validators=[NumberRange(min=5, max=15, message='Please put a number between 5 and 15')], default=0)\n",
        "\thours_in_dissertation = IntegerField('How many hours have you worked in your dissertation so far?', default=0)\n",
        "\tmodule_1_boolean = BooleanField('Module 1')\n",
        "\tmodule_2_boolean = BooleanField('Module 2')\n",
        "\tmodule_3_boolean = BooleanField('Module 3')\n",
        "\tmodule_4_boolean = BooleanField('Module 4')\n",
        "\tmodule_5_boolean = BooleanField('Module 5')\n",
        "\tmodule_6_boolean = BooleanField('Module 6')\n",
        "\tmodule_7_boolean = BooleanField('Module 7')\n",
        "\tmodule_8_boolean = BooleanField('Module 8')\n",
        "\tmodule_9_boolean = BooleanField('Module 9')\n",
        "\tmodule_10_boolean = BooleanField('Module 10')\n",
        "\tmodule_1_PMA_percentage = IntegerField('Module 1', validators=[NumberRange(min=0, max=100, message='Please put a number between 0 and 100')], default=0)\n",
        "\tmodule_2_PMA_percentage = IntegerField('Module 2', validators=[NumberRange(min=0, max=100, message='Please put a number between 0 and 100')], default=0)\n",
        "\tmodule_3_PMA_percentage = IntegerField('Module 3', validators=[NumberRange(min=0, max=100, message='Please put a number between 0 and 100')], default=0)\n",
        "\tmodule_4_PMA_percentage = IntegerField('Module 4', validators=[NumberRange(min=0, max=100, message='Please put a number between 0 and 100')], default=0)\n",
        "\tmodule_5_PMA_percentage = IntegerField('Module 5', validators=[NumberRange(min=0, max=100, message='Please put a number between 0 and 100')], default=0)\n",
        "\tmodule_6_PMA_percentage = IntegerField('Module 6', validators=[NumberRange(min=0, max=100, message='Please put a number between 0 and 100')], default=0)\n",
        "\tmodule_7_PMA_percentage = IntegerField('Module 7', validators=[NumberRange(min=0, max=100, message='Please put a number between 0 and 100')], default=0)\n",
        "\tmodule_8_PMA_percentage = IntegerField('Module 8', validators=[NumberRange(min=0, max=100, message='Please put a number between 0 and 100')], default=0)\n",
        "\tmodule_9_PMA_percentage = IntegerField('Module 9', validators=[NumberRange(min=0, max=100, message='Please put a number between 0 and 100')], default=0)\n",
        "\tmodule_10_PMA_percentage = IntegerField('Module 10', validators=[NumberRange(min=0, max=100, message='Please put a number between 0 and 100')], default=0)\n",
        "\n",
        "\n",
        "@app.route('/')\n",
        "def index():\n",
        "    return render_template('index.html', app_data=app_data)\n",
        "\n",
        "\n",
        "@app.route('/calendar')\n",
        "def calendar():\n",
        "    df = pd.read_csv(\"NamesTwo.csv\")\n",
        "    return render_template('calendar.html', df=df, app_data=app_data)\n",
        "\n",
        "\n",
        "@app.route('/workload')\n",
        "def workload():\n",
        "    form = UserForm()\n",
        "    return render_template('workload.html', form = form, app_data=app_data)\n",
        "\n",
        "\n",
        "@app.route('/submit', methods=('GET', 'POST'))\n",
        "def submit():\n",
        "\tform = UserForm()\n",
        "\tif request.method == \"POST\":\n",
        "\t\tif form.validate_on_submit():\n",
        "\t\t\tprint(\"I'm in form validation\")\n",
        "\t\t\t# max_id = df['ID'].max()\n",
        "\t\t\t# new_id = max_id + 1\n",
        "\t\t\t# df2 = pd.DataFrame({'ID':[new_id], \n",
        "\t\t\t#\t'Name':[request.form.get(\"name\")],\n",
        "\t\t\t#\t'Email':[request.form.get(\"email\")],\n",
        "\t\t\t#\t'Age':[request.form.get(\"dob\")],\n",
        "\t\t\t#\t'Specialism':[request.form.get(\"specialism\")]\n",
        "\t\t\t# })\n",
        "\t\t\t# df2['Age'] = pd.to_datetime(df2['Age'], dayfirst=True)\n",
        "\t\t\t# now = pd.Timestamp('now')\n",
        "\t\t\t# df2['Age'] = (now - df2['Age']).astype('<m8[Y]')\n",
        "\t\t\t# df = pd.concat([df, df2], ignore_index=True)\n",
        "\t\t\t# df.to_csv(\"NamesTwo.csv\", index=False)\n",
        "\n",
        "\t\t\treturn render_template('results.html', form=form, app_data=app_data)\n",
        "\n",
        "\treturn render_template('workload.html', form=form, app_data=app_data)\n",
        "\t\n",
        "\n",
        "run_with_ngrok(app)\n",
        "app.run()"
      ]
    },
    {
      "cell_type": "code",
      "execution_count": null,
      "id": "30907688",
      "metadata": {
        "id": "30907688"
      },
      "outputs": [],
      "source": []
    }
  ],
  "metadata": {
    "colab": {
      "name": "Copia de Copy of flask_website_IMA.ipynb",
      "provenance": []
    },
    "kernelspec": {
      "display_name": "Python 3",
      "language": "python",
      "name": "python3"
    },
    "language_info": {
      "codemirror_mode": {
        "name": "ipython",
        "version": 3
      },
      "file_extension": ".py",
      "mimetype": "text/x-python",
      "name": "python",
      "nbconvert_exporter": "python",
      "pygments_lexer": "ipython3",
      "version": "3.8.8"
    }
  },
  "nbformat": 4,
  "nbformat_minor": 5
}
