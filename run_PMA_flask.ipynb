{
  "cells": [
    {
      "cell_type": "markdown",
      "id": "e9521859",
      "metadata": {},
      "source": [
        "<a href=\"https://colab.research.google.com/github/Licencinho/PMA/blob/main/run_PMA_flask.ipynb\" target=\"_parent\"><img src=\"https://colab.research.google.com/assets/colab-badge.svg\" alt=\"Open In Colab\"/></a>"
      ]
    },
    {
      "cell_type": "code",
      "execution_count": 11,
      "id": "196e3e3c",
      "metadata": {
        "colab": {
          "base_uri": "https://localhost:8080/"
        },
        "id": "196e3e3c",
        "outputId": "50234e2b-925c-4650-8764-7eeb644476b8"
      },
      "outputs": [
        {
          "name": "stdout",
          "output_type": "stream",
          "text": [
            "Requirement already satisfied: flask-ngrok in c:\\users\\alons\\anaconda3\\lib\\site-packages (0.0.25)\n",
            "Requirement already satisfied: requests in c:\\users\\alons\\anaconda3\\lib\\site-packages (from flask-ngrok) (2.25.1)\n",
            "Requirement already satisfied: Flask>=0.8 in c:\\users\\alons\\anaconda3\\lib\\site-packages (from flask-ngrok) (1.1.2)\n",
            "Requirement already satisfied: Jinja2>=2.10.1 in c:\\users\\alons\\anaconda3\\lib\\site-packages (from Flask>=0.8->flask-ngrok) (2.11.3)\n",
            "Requirement already satisfied: itsdangerous>=0.24 in c:\\users\\alons\\anaconda3\\lib\\site-packages (from Flask>=0.8->flask-ngrok) (1.1.0)\n",
            "Requirement already satisfied: Werkzeug>=0.15 in c:\\users\\alons\\anaconda3\\lib\\site-packages (from Flask>=0.8->flask-ngrok) (1.0.1)\n",
            "Requirement already satisfied: click>=5.1 in c:\\users\\alons\\anaconda3\\lib\\site-packages (from Flask>=0.8->flask-ngrok) (7.1.2)\n",
            "Requirement already satisfied: MarkupSafe>=0.23 in c:\\users\\alons\\anaconda3\\lib\\site-packages (from Jinja2>=2.10.1->Flask>=0.8->flask-ngrok) (1.1.1)\n",
            "Requirement already satisfied: certifi>=2017.4.17 in c:\\users\\alons\\anaconda3\\lib\\site-packages (from requests->flask-ngrok) (2020.12.5)\n",
            "Requirement already satisfied: idna<3,>=2.5 in c:\\users\\alons\\anaconda3\\lib\\site-packages (from requests->flask-ngrok) (2.10)\n",
            "Requirement already satisfied: urllib3<1.27,>=1.21.1 in c:\\users\\alons\\anaconda3\\lib\\site-packages (from requests->flask-ngrok) (1.26.4)\n",
            "Requirement already satisfied: chardet<5,>=3.0.2 in c:\\users\\alons\\anaconda3\\lib\\site-packages (from requests->flask-ngrok) (4.0.0)\n",
            "Requirement already satisfied: pyngrok in c:\\users\\alons\\anaconda3\\lib\\site-packages (5.1.0)\n",
            "Requirement already satisfied: PyYAML in c:\\users\\alons\\anaconda3\\lib\\site-packages (from pyngrok) (5.4.1)\n",
            "Requirement already satisfied: flask-wtf in c:\\users\\alons\\anaconda3\\lib\\site-packages (1.0.0)\n",
            "Requirement already satisfied: itsdangerous in c:\\users\\alons\\anaconda3\\lib\\site-packages (from flask-wtf) (1.1.0)\n",
            "Requirement already satisfied: WTForms in c:\\users\\alons\\anaconda3\\lib\\site-packages (from flask-wtf) (3.0.1)\n",
            "Requirement already satisfied: Flask in c:\\users\\alons\\anaconda3\\lib\\site-packages (from flask-wtf) (1.1.2)\n",
            "Requirement already satisfied: Jinja2>=2.10.1 in c:\\users\\alons\\anaconda3\\lib\\site-packages (from Flask->flask-wtf) (2.11.3)\n",
            "Requirement already satisfied: Werkzeug>=0.15 in c:\\users\\alons\\anaconda3\\lib\\site-packages (from Flask->flask-wtf) (1.0.1)\n",
            "Requirement already satisfied: click>=5.1 in c:\\users\\alons\\anaconda3\\lib\\site-packages (from Flask->flask-wtf) (7.1.2)\n",
            "Requirement already satisfied: MarkupSafe>=0.23 in c:\\users\\alons\\anaconda3\\lib\\site-packages (from Jinja2>=2.10.1->Flask->flask-wtf) (1.1.1)\n"
          ]
        }
      ],
      "source": [
        "!pip install flask-ngrok\n",
        "!pip install pyngrok\n",
        "!pip install flask-wtf"
      ]
    },
    {
      "cell_type": "code",
      "execution_count": 12,
      "id": "4f14298c",
      "metadata": {
        "colab": {
          "base_uri": "https://localhost:8080/"
        },
        "id": "4f14298c",
        "outputId": "4e22f433-bbe5-4b84-c18b-9773a7f0bbbe"
      },
      "outputs": [
        {
          "name": "stdout",
          "output_type": "stream",
          "text": [
            "Authtoken saved to configuration file: C:\\Users\\alons/.ngrok2/ngrok.yml\n"
          ]
        }
      ],
      "source": [
        "!ngrok authtoken \"26BvbMOktqjiQ2Ibfb05r7jzTcL_4UJaagneSjXiB6qeUZXzT\""
      ]
    },
    {
      "cell_type": "code",
      "execution_count": 5,
      "id": "754e7726",
      "metadata": {
        "id": "754e7726"
      },
      "outputs": [
        {
          "ename": "FileNotFoundError",
          "evalue": "[WinError 3] El sistema no puede encontrar la ruta especificada: '/content/PMA'",
          "output_type": "error",
          "traceback": [
            "\u001b[1;31m---------------------------------------------------------------------------\u001b[0m",
            "\u001b[1;31mFileNotFoundError\u001b[0m                         Traceback (most recent call last)",
            "\u001b[1;32m<ipython-input-5-aebeeecec269>\u001b[0m in \u001b[0;36m<module>\u001b[1;34m\u001b[0m\n\u001b[0;32m      1\u001b[0m \u001b[1;31m#!git clone \"https://github.com/Licencinho/PMA\"\u001b[0m\u001b[1;33m\u001b[0m\u001b[1;33m\u001b[0m\u001b[1;33m\u001b[0m\u001b[0m\n\u001b[0;32m      2\u001b[0m \u001b[1;32mimport\u001b[0m \u001b[0mos\u001b[0m\u001b[1;33m\u001b[0m\u001b[1;33m\u001b[0m\u001b[0m\n\u001b[1;32m----> 3\u001b[1;33m \u001b[0mos\u001b[0m\u001b[1;33m.\u001b[0m\u001b[0mchdir\u001b[0m\u001b[1;33m(\u001b[0m\u001b[1;34m\"/content/PMA\"\u001b[0m\u001b[1;33m)\u001b[0m\u001b[1;33m\u001b[0m\u001b[1;33m\u001b[0m\u001b[0m\n\u001b[0m",
            "\u001b[1;31mFileNotFoundError\u001b[0m: [WinError 3] El sistema no puede encontrar la ruta especificada: '/content/PMA'"
          ]
        }
      ],
      "source": [
        "#only execute in Google Colab. Not needed in local\n",
        "!git clone \"https://github.com/Licencinho/PMA\"\n",
        "import os\n",
        "os.chdir(\"/content/PMA\")"
      ]
    },
    {
      "cell_type": "code",
      "execution_count": 29,
      "id": "b256c725",
      "metadata": {
        "colab": {
          "base_uri": "https://localhost:8080/"
        },
        "id": "b256c725",
        "outputId": "48ea6370-8b27-4b47-82c1-869408f48392"
      },
      "outputs": [
        {
          "name": "stdout",
          "output_type": "stream",
          "text": [
            " * Serving Flask app \"__main__\" (lazy loading)\n",
            " * Environment: production\n",
            "   WARNING: This is a development server. Do not use it in a production deployment.\n",
            "   Use a production WSGI server instead.\n",
            " * Debug mode: off\n"
          ]
        },
        {
          "name": "stderr",
          "output_type": "stream",
          "text": [
            " * Running on http://127.0.0.1:5000/ (Press CTRL+C to quit)\n",
            "127.0.0.1 - - [30/Mar/2022 14:05:06] \"\u001b[37mPOST /login HTTP/1.1\u001b[0m\" 200 -\n"
          ]
        },
        {
          "name": "stdout",
          "output_type": "stream",
          "text": [
            " * Running on http://719f-31-205-0-51.ngrok.io\n",
            " * Traffic stats available on http://127.0.0.1:4040\n"
          ]
        },
        {
          "name": "stderr",
          "output_type": "stream",
          "text": [
            "127.0.0.1 - - [30/Mar/2022 14:05:14] \"\u001b[37mGET / HTTP/1.1\u001b[0m\" 200 -\n",
            "127.0.0.1 - - [30/Mar/2022 14:05:21] \"\u001b[37mPOST /login HTTP/1.1\u001b[0m\" 200 -\n",
            "127.0.0.1 - - [30/Mar/2022 14:05:32] \"\u001b[37mGET /workload HTTP/1.1\u001b[0m\" 200 -\n",
            "127.0.0.1 - - [30/Mar/2022 14:05:38] \"\u001b[37mGET /calendar HTTP/1.1\u001b[0m\" 200 -\n",
            "127.0.0.1 - - [30/Mar/2022 14:05:41] \"\u001b[37mGET /calendar HTTP/1.1\u001b[0m\" 200 -\n",
            "127.0.0.1 - - [30/Mar/2022 14:05:41] \"\u001b[37mGET /workload HTTP/1.1\u001b[0m\" 200 -\n",
            "127.0.0.1 - - [30/Mar/2022 14:05:54] \"\u001b[37mPOST /submit HTTP/1.1\u001b[0m\" 200 -\n",
            "127.0.0.1 - - [30/Mar/2022 14:05:55] \"\u001b[37mGET /submit HTTP/1.1\u001b[0m\" 200 -\n",
            "127.0.0.1 - - [30/Mar/2022 14:06:03] \"\u001b[37mGET /workload HTTP/1.1\u001b[0m\" 200 -\n",
            "127.0.0.1 - - [30/Mar/2022 14:06:04] \"\u001b[37mGET /calendar HTTP/1.1\u001b[0m\" 200 -\n",
            "127.0.0.1 - - [30/Mar/2022 14:06:07] \"\u001b[37mGET /workload HTTP/1.1\u001b[0m\" 200 -\n",
            "127.0.0.1 - - [30/Mar/2022 14:06:08] \"\u001b[37mGET / HTTP/1.1\u001b[0m\" 200 -\n"
          ]
        }
      ],
      "source": [
        "from flask import *\n",
        "from flask_ngrok import run_with_ngrok\n",
        "import pandas as pd\n",
        "from flask_wtf import FlaskForm\n",
        "from wtforms import *\n",
        "from wtforms import validators\n",
        "from wtforms.validators import *\n",
        "import datetime\n",
        "\n",
        "\n",
        "app = Flask(__name__)\n",
        "app.config['SECRET_KEY'] = 'super-secret-impossible-impopossible' # this should go in a .env file\n",
        "\n",
        "from flask_wtf.csrf import CSRFProtect\n",
        "csrf = CSRFProtect(app)\n",
        "\n",
        "app_data = {\n",
        "    \"name\":         \"Plannerd\",\n",
        "    \"description\":  \"A basic Flask app for students to plan their dissertations\",\n",
        "    \"author\":       \"Alonso Olate, adaptation from Peter Simeth's flask template\",\n",
        "    \"html_title\":   \"Plannerd\",\n",
        "    \"project_name\": \"Plannerd\",\n",
        "    \"keywords\":     \"flask, webapp, dissertation, planning, python, plannerd\"\n",
        "}\n",
        "\n",
        "class WorkloadForm(FlaskForm):\n",
        "\tmodule_number = IntegerField('How many modules does your Master have? (Required)', validators=[NumberRange(min=5, max=15, message='Please put a number between 5 and 15')], default=0)\n",
        "\thours_in_dissertation = IntegerField('How many hours have you worked in your dissertation so far?', validators=[NumberRange(min=0, max=900, message='Please put a number between 0 and 900')], default=0)\n",
        "\tmodule_1_boolean = BooleanField('Module 1')\n",
        "\tmodule_2_boolean = BooleanField('Module 2')\n",
        "\tmodule_3_boolean = BooleanField('Module 3')\n",
        "\tmodule_4_boolean = BooleanField('Module 4')\n",
        "\tmodule_5_boolean = BooleanField('Module 5')\n",
        "\tmodule_6_boolean = BooleanField('Module 6')\n",
        "\tmodule_7_boolean = BooleanField('Module 7')\n",
        "\tmodule_8_boolean = BooleanField('Module 8')\n",
        "\tmodule_9_boolean = BooleanField('Module 9')\n",
        "\tmodule_10_boolean = BooleanField('Module 10')\n",
        "\tmodule_1_PMA_percentage = IntegerField('Module 1', validators=[NumberRange(min=0, max=100, message='Please put a number between 0 and 100')], default=0)\n",
        "\tmodule_2_PMA_percentage = IntegerField('Module 2', validators=[NumberRange(min=0, max=100, message='Please put a number between 0 and 100')], default=0)\n",
        "\tmodule_3_PMA_percentage = IntegerField('Module 3', validators=[NumberRange(min=0, max=100, message='Please put a number between 0 and 100')], default=0)\n",
        "\tmodule_4_PMA_percentage = IntegerField('Module 4', validators=[NumberRange(min=0, max=100, message='Please put a number between 0 and 100')], default=0)\n",
        "\tmodule_5_PMA_percentage = IntegerField('Module 5', validators=[NumberRange(min=0, max=100, message='Please put a number between 0 and 100')], default=0)\n",
        "\tmodule_6_PMA_percentage = IntegerField('Module 6', validators=[NumberRange(min=0, max=100, message='Please put a number between 0 and 100')], default=0)\n",
        "\tmodule_7_PMA_percentage = IntegerField('Module 7', validators=[NumberRange(min=0, max=100, message='Please put a number between 0 and 100')], default=0)\n",
        "\tmodule_8_PMA_percentage = IntegerField('Module 8', validators=[NumberRange(min=0, max=100, message='Please put a number between 0 and 100')], default=0)\n",
        "\tmodule_9_PMA_percentage = IntegerField('Module 9', validators=[NumberRange(min=0, max=100, message='Please put a number between 0 and 100')], default=0)\n",
        "\tmodule_10_PMA_percentage = IntegerField('Module 10', validators=[NumberRange(min=0, max=100, message='Please put a number between 0 and 100')], default=0)\n",
        "\n",
        "class LoginForm(FlaskForm):\n",
        "\temail = EmailField('Email', validators=[DataRequired()])\n",
        "\tpassword = PasswordField('Password', validators =[DataRequired()])\n",
        "\n",
        "\n",
        "@app.route('/')\n",
        "def index():\n",
        "\tlogin_message = \"\"\n",
        "\tform = LoginForm()\n",
        "\tdf = pd.read_csv(\"users.csv\")\n",
        "\treturn render_template('login.html', df=df, form = form, login_message = login_message, app_data=app_data)\n",
        "\n",
        "@app.route('/login', methods=('GET', 'POST'))\n",
        "def login():\n",
        "\tlogin_message = \"\"\n",
        "\tform = LoginForm()\n",
        "\tdf = pd.read_csv(\"users.csv\")\n",
        "\tif request.method == \"POST\":\n",
        "\t\tif form.validate_on_submit():\n",
        "\n",
        "\t\t\t# Search in Pandas adapted from https://www.interviewqs.com/ddi-code-snippets/rows-cols-python.\n",
        "\t\t\t\n",
        "\t\t\tdfFound = df.loc[(df['email'] == request.form.get(\"email\")) & (df['password'] == request.form.get(\"password\"))]\n",
        "\t\t\t\n",
        "\t\t\t#If dfFound has one row or more, it means we found a user with matching email and password\n",
        "\t\t\tcount_row = dfFound.shape[0]\n",
        "\t\t\tif count_row > 0:\n",
        "\t\t\t\treturn render_template('index.html', app_data=app_data)\n",
        "\n",
        "\tlogin_message = \"Your credentials are not correct. Please try again\"\n",
        "\treturn render_template('login.html', df=df, form=form, login_message = login_message, app_data=app_data)\n",
        "\n",
        "\n",
        "@app.route('/calendar')\n",
        "def calendar():\n",
        "    return render_template('calendar.html', app_data=app_data)\n",
        "\n",
        "\n",
        "@app.route('/workload')\n",
        "def workload():\n",
        "    form = WorkloadForm()\n",
        "    return render_template('workload.html', form = form, app_data=app_data)\n",
        "\n",
        "@app.route('/results')\n",
        "def results():\n",
        "    formResults = {}\n",
        "    return render_template('results.html', formResults = formResults, app_data=app_data)\n",
        "\n",
        "\n",
        "@app.route('/submit', methods=('GET', 'POST'))\n",
        "def submit():\n",
        "\tform = WorkloadForm()\n",
        "\tformResults = {}\n",
        "\tif request.method == \"POST\":\n",
        "\t\tif form.validate_on_submit():\n",
        "\t\t\tformResults['hours_in_dissertation'] = float(request.form.get(\"hours_in_dissertation\"))\n",
        "\n",
        "\t\t\t# Calculate how many hours spent in class in modules\n",
        "\t\t\tformResults['hours_in_modules'] = 0\n",
        "\t\t\tif(request.form.get(\"module_1_boolean\")):\n",
        "\t\t\t\tformResults['hours_in_modules'] = float(formResults['hours_in_modules']) + 40\n",
        "\t\t\tif(request.form.get(\"module_2_boolean\")):\n",
        "\t\t\t\tformResults['hours_in_modules'] = float(formResults['hours_in_modules']) + 40\n",
        "\t\t\tif(request.form.get(\"module_3_boolean\")):\n",
        "\t\t\t\tformResults['hours_in_modules'] = float(formResults['hours_in_modules']) + 40\t\n",
        "\t\t\tif(request.form.get(\"module_4_boolean\")):\n",
        "\t\t\t\tformResults['hours_in_modules'] = float(formResults['hours_in_modules']) + 40\n",
        "\t\t\tif(request.form.get(\"module_5_boolean\")):\n",
        "\t\t\t\tformResults['hours_in_modules'] = float(formResults['hours_in_modules']) + 40\n",
        "\t\t\tif(request.form.get(\"module_6_boolean\")):\n",
        "\t\t\t\tformResults['hours_in_modules'] = float(formResults['hours_in_modules']) + 40\n",
        "\t\t\tif(request.form.get(\"module_7_boolean\")):\n",
        "\t\t\t\tformResults['hours_in_modules'] = float(formResults['hours_in_modules']) + 40\n",
        "\t\t\tif(request.form.get(\"module_8_boolean\")):\n",
        "\t\t\t\tformResults['hours_in_modules'] = float(formResults['hours_in_modules']) + 40\n",
        "\t\t\tif(request.form.get(\"module_9_boolean\")):\n",
        "\t\t\t\tformResults['hours_in_modules'] = float(formResults['hours_in_modules']) + 40\n",
        "\t\t\tif(request.form.get(\"module_10_boolean\")):\n",
        "\t\t\t\tformResults['hours_in_modules'] = float(formResults['hours_in_modules']) + 40\n",
        "\n",
        "\t\t\t# Calculate how many hours spent in PMA work\n",
        "\t\t\tformResults['hours_in_PMAs'] = round((float(request.form.get(\"module_1_PMA_percentage\")) + float(request.form.get(\"module_2_PMA_percentage\")) + float(request.form.get(\"module_3_PMA_percentage\")) + float(request.form.get(\"module_4_PMA_percentage\")) + float(request.form.get(\"module_5_PMA_percentage\")) + float(request.form.get(\"module_6_PMA_percentage\")) + float(request.form.get(\"module_7_PMA_percentage\")) + float(request.form.get(\"module_8_PMA_percentage\")) + float(request.form.get(\"module_9_PMA_percentage\")) + float(request.form.get(\"module_10_PMA_percentage\"))) * 0.6, 0)\n",
        "\n",
        "\t\t\t# Calculate how many hours spent in modules and PMA work\n",
        "\t\t\tformResults['hours_in_modules_and_PMAs'] = round(float(formResults['hours_in_modules']) + float(formResults['hours_in_PMAs']), 0)\n",
        "\n",
        "\t\t\t# Calculate how many hours to do in modules\n",
        "\t\t\tformResults['module_hours_to_do'] = round(float(request.form.get(\"module_number\"))*100 - float(formResults ['hours_in_modules_and_PMAs']), 0)\n",
        "\n",
        "\t\t\t# Calculate how many hours to do in dissertation\n",
        "\t\t\tformResults['dissertation_hours_to_do'] =  round(900 - float(request.form.get(\"hours_in_dissertation\")), 0)\n",
        "\n",
        "\t\t\t# Calculate total work hours to do\n",
        "\t\t\tformResults['total_hours_to_do'] =  round(float(formResults['module_hours_to_do']) + float(formResults['dissertation_hours_to_do']), 0)\n",
        "\n",
        "\t\t\t# Calculate weeks remaining to submission\n",
        "\t\t\tsubmissionDate = datetime.datetime(2022,9,6)\n",
        "\t\t\ttoday = datetime.datetime.now()\n",
        "\t\t\tdifference = submissionDate - today\n",
        "\t\t\tformResults['weeks_to_submission'] = round(difference.days/7, 1)\n",
        "\n",
        "\t\t\t# Calculate hours per week to work from now\n",
        "\t\t\tformResults['hours_per_week'] = round(float(formResults['total_hours_to_do'])/float(formResults['weeks_to_submission']), 1)\n",
        "\n",
        "\t\t\t# Calculate hours per day in a 7 day week\n",
        "\t\t\tformResults['hours_per_day_in_7_day_week'] = round(float(formResults['hours_per_week'])/7, 1)\n",
        "\t\t\t# Calculate hours per day in a 6 day week\n",
        "\t\t\tformResults['hours_per_day_in_6_day_week'] = round(float(formResults['hours_per_week'])/6, 1)\n",
        "\t\t\t# Calculate hours per day in a 5 day week\n",
        "\t\t\tformResults['hours_per_day_in_5_day_week'] = round(float(formResults['hours_per_week'])/5, 1)\n",
        "\n",
        "\t\t\treturn render_template('results.html', formResults=formResults, app_data=app_data)\n",
        "\n",
        "\treturn render_template('workload.html', form=form, app_data=app_data)\n",
        "\t\n",
        "\n",
        "run_with_ngrok(app)\n",
        "app.run()"
      ]
    },
    {
      "cell_type": "code",
      "execution_count": null,
      "id": "30907688",
      "metadata": {
        "id": "30907688"
      },
      "outputs": [],
      "source": []
    }
  ],
  "metadata": {
    "colab": {
      "name": "Copia de Copy of flask_website_IMA.ipynb",
      "provenance": []
    },
    "kernelspec": {
      "display_name": "Python 3",
      "language": "python",
      "name": "python3"
    },
    "language_info": {
      "codemirror_mode": {
        "name": "ipython",
        "version": 3
      },
      "file_extension": ".py",
      "mimetype": "text/x-python",
      "name": "python",
      "nbconvert_exporter": "python",
      "pygments_lexer": "ipython3",
      "version": "3.8.8"
    }
  },
  "nbformat": 4,
  "nbformat_minor": 5
}
